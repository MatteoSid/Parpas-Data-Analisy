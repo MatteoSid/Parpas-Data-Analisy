{
 "cells": [
  {
   "cell_type": "code",
   "execution_count": 1,
   "id": "9eaa6465",
   "metadata": {},
   "outputs": [],
   "source": [
    "import matplotlib.pyplot as plt\n",
    "import pandas as pd\n",
    "import csv\n",
    "import time\n",
    "from tqdm import tqdm"
   ]
  },
  {
   "cell_type": "markdown",
   "id": "c6b1787f",
   "metadata": {},
   "source": [
    "## Funzione per trasformare i dati in CSV\n",
    "Lo script prende in input un file .txt con il parametro 'rb' quindi in lettura in formato bytecode che vuol dire che dovrà essere decodificato.\n",
    "Per prima cosa si scorre fino alla riga che inizia con 'NR' perché i dati iniziano da li, quando la trovo imposto flag_data a 1 che serve a dirmi che da li in poi dovrò salvare le righe.\n",
    "Cerco la prima riga che inizia con '0' e la salto settando firsr_row a 1.\n",
    "Quando sia data_flag che first_row sono a 1 allora inizio a salvare le righe.\n",
    "\n",
    "Per salvare le righe:\n",
    "* prima le decodifico con .decode()\n",
    "* poi le divido con .split() che se usato senza parametri splitta la stringa in base agli spazi\n",
    "* unisco i valori delle ultime due colonne perché fanno entrambi riferimento alla data\n",
    "* elimino l'ultima riga perché l'ho unita alla penultima\n",
    "* faccio un append della riga\n"
   ]
  },
  {
   "cell_type": "code",
   "execution_count": 38,
   "id": "a9256882",
   "metadata": {},
   "outputs": [
    {
     "name": "stdout",
     "output_type": "stream",
     "text": [
      "14614\n"
     ]
    }
   ],
   "source": [
    "filename= 'DiagnosisTable4'\n",
    "file1 = open(filename + \".txt\", \"rb\")\n",
    "file_csv = open(filename + '.csv', 'w+', newline ='')\n",
    "\n",
    "count = 0\n",
    "flag_data = 0\n",
    "first_row = True\n",
    "\n",
    "with file_csv:\n",
    "    for line in file1:\n",
    "        \n",
    "        if b'\\xb0C' in line:     # se trovo il carattere °C lo ignoro\n",
    "            pass\n",
    "        else:\n",
    "            line = line.decode() # altrimenti decodifico la riga\n",
    "            count = count+1      # aggiorno il contatore delle righe\n",
    "            if flag_data == 1 and first_row == False:\n",
    "                row = line.split()\n",
    "                if not line.startswith('[END]') and len(row) == 25:\n",
    "                    #print(line.split())\n",
    "                    row[23] = str(row[23]) + ' ' + str(row[24])\n",
    "                    del row[-1]\n",
    "                    write = csv.writer(file_csv)\n",
    "                    write.writerow(row)\n",
    "\n",
    "            if line.startswith('0') and flag_data == 1:\n",
    "                first_row = False\n",
    "\n",
    "            if line.startswith('NR'):\n",
    "                flag_data = 1\n",
    "                #print(line)\n",
    "                table_names = line.split()\n",
    "                table_names.remove('LastLine')\n",
    "                #print(table_names)\n",
    "                write = csv.writer(file_csv)\n",
    "                write.writerow(table_names)\n",
    "        \n",
    "print(count)"
   ]
  },
  {
   "cell_type": "markdown",
   "id": "ee9b1676",
   "metadata": {},
   "source": [
    "## Funzione per caricare il CSV in un DataFrame"
   ]
  },
  {
   "cell_type": "code",
   "execution_count": 40,
   "id": "d6d7481f",
   "metadata": {
    "scrolled": false
   },
   "outputs": [],
   "source": [
    "def load_data(file):\n",
    "    column_subset = ['NR', 't_Mach', 't_HydrTa', 't_TTlubr', 't_TT_ab1', \n",
    "                     't_TT_ab2', 't_HdStUp', 't_HdStLw', 't_Sfrnt1', \n",
    "                     't_Sfrnt2', 't_Srear', 't_Smotor', 'DataTime']\n",
    "\n",
    "    df = pd.read_csv (file,\n",
    "                      usecols=column_subset,\n",
    "                      index_col=False)\n",
    "\n",
    "\n",
    "    df['DataTime'] = pd.to_datetime(df['DataTime'], format='%H:%M:%S %d.%m.%Y')\n",
    "    \n",
    "    df.set_index('DataTime', drop = True, inplace=True)\n",
    "    \n",
    "    #df.drop('NR', axis=1, inplace=True)\n",
    "    \n",
    "    return df"
   ]
  },
  {
   "cell_type": "code",
   "execution_count": 42,
   "id": "0cb0ae0b",
   "metadata": {},
   "outputs": [
    {
     "name": "stdout",
     "output_type": "stream",
     "text": [
      "<class 'pandas.core.frame.DataFrame'>\n",
      "DatetimeIndex: 57559 entries, 2019-06-15 19:27:01 to 2020-03-30 12:33:01\n",
      "Data columns (total 12 columns):\n",
      " #   Column    Non-Null Count  Dtype  \n",
      "---  ------    --------------  -----  \n",
      " 0   NR        57559 non-null  int64  \n",
      " 1   t_Mach    57559 non-null  float64\n",
      " 2   t_HydrTa  57559 non-null  float64\n",
      " 3   t_TTlubr  57559 non-null  float64\n",
      " 4   t_TT_ab1  57559 non-null  float64\n",
      " 5   t_TT_ab2  57559 non-null  float64\n",
      " 6   t_HdStUp  57559 non-null  float64\n",
      " 7   t_HdStLw  57559 non-null  float64\n",
      " 8   t_Sfrnt1  57559 non-null  float64\n",
      " 9   t_Sfrnt2  57559 non-null  float64\n",
      " 10  t_Srear   57559 non-null  float64\n",
      " 11  t_Smotor  57559 non-null  float64\n",
      "dtypes: float64(11), int64(1)\n",
      "memory usage: 5.7 MB\n",
      "None\n"
     ]
    }
   ],
   "source": [
    "data1 = load_data('DiagnosisTable.csv')\n",
    "data2 = load_data('DiagnosisTable2.csv')\n",
    "data3 = load_data('DiagnosisTable3.csv')\n",
    "data4 = load_data('DiagnosisTable4.csv')\n",
    "#print(data1.info())\n",
    "#print(data2.info())\n",
    "\n",
    "data_all = pd.concat([data1, data2, data3, data4])\n",
    "data_all.sort_index(inplace = True)\n",
    "print(data_all.info())\n",
    "\n",
    "#data1.sort_index(inplace = True)\n",
    "#data1.loc['2019-06-15 19:27:01']\n",
    "#data1.sort_values(by='DateTime1',ascending=True)\n",
    "\n",
    "#print(pd.date_range(start = '2019-06-15 19:27:01', end = '2019-06-26 08:21:01' ).difference(data1.index))"
   ]
  },
  {
   "cell_type": "code",
   "execution_count": null,
   "id": "b0a4f3df",
   "metadata": {
    "scrolled": false
   },
   "outputs": [],
   "source": [
    "df.plot(figsize = (20,15), grid = True)\n"
   ]
  },
  {
   "cell_type": "code",
   "execution_count": null,
   "id": "a900f6c0",
   "metadata": {},
   "outputs": [],
   "source": [
    "df = pd.read_csv ('parsed_data.csv', index_col=False)\n",
    "\n",
    "for index, row in df.iterrows():\n",
    "    if row['tCo_S2_Z'] != '+0':\n",
    "        print(str(index) + ' ' + str(row['NR']) + ' ' + str(row['tCo_S2_Z']))\n",
    "        df.drop(index, inplace=True)\n",
    "\n",
    "fig, axs = plt.subplots(18,figsize=(15,50))\n",
    "fig.suptitle('Vertically stacked subplots')\n",
    "axs[0].plot(df['t_Mach'])\n",
    "axs[0].set_title('t_Mach')\n",
    "\n",
    "axs[1].plot(df['t_HydrTa'])\n",
    "axs[1].set_title('t_Mach')\n",
    "\n",
    "axs[2].plot(df[['t_TTlubr','t_TT_ab1','t_TT_ab2']])\n",
    "axs[2].set_title('t_TTlubr, t_TT_ab1, t_TT_ab2')\n",
    "\n",
    "axs[3].plot(df['t_HdStUp'])\n",
    "axs[3].set_title('t_HdStUp')\n",
    "\n",
    "axs[4].plot(df['t_HdStLw'])\n",
    "axs[4].set_title('t_HdStLw')\n",
    "\n",
    "axs[5].plot(df[['t_Sfrnt1', 't_Sfrnt2']])\n",
    "axs[5].set_title('t_Sfrnt1, t_Sfrnt2')\n",
    "\n",
    "axs[6].plot(df['t_Srear'])\n",
    "axs[6].set_title('t_Srear')\n",
    "\n",
    "axs[7].plot(df['t_Smotor'])\n",
    "axs[7].set_title('t_Smotor')\n",
    "\n",
    "axs[8].plot(df['S_Speed'])\n",
    "axs[8].set_title('S_Speed')\n",
    "\n",
    "axs[9].plot(df['S_Load'])\n",
    "axs[9].set_title('S_Load')\n",
    "\n",
    "axs[10].plot(df['tCo_H_X1'])\n",
    "axs[10].set_title('tCo_H_X1')\n",
    "\n",
    "axs[11].plot(df['tCo_H_Y1'])\n",
    "axs[11].set_title('tCo_H_Y1')\n",
    "\n",
    "axs[12].plot(df['tCo_H_Z1'])\n",
    "axs[12].set_title('tCo_H_Z1')\n",
    "\n",
    "axs[13].plot(df['tCo_H_X2'])\n",
    "axs[13].set_title('tCo_H_X2')\n",
    "\n",
    "axs[14].plot(df['tCo_H_Y2'])\n",
    "axs[14].set_title('tCo_H_Y2')\n",
    "\n",
    "axs[15].plot(df['tCo_H_Z2'])\n",
    "axs[15].set_title('tCo_H_Z2')\n",
    "\n",
    "axs[16].plot(df['tCo_H_Y3'])\n",
    "axs[16].set_title('tCo_H_Y3')\n",
    "\n",
    "axs[17].plot(df['tCo_S2_Z'])\n",
    "axs[17].set_title('tCo_S2_Z')\n"
   ]
  }
 ],
 "metadata": {
  "kernelspec": {
   "display_name": "Python 3",
   "language": "python",
   "name": "python3"
  },
  "language_info": {
   "codemirror_mode": {
    "name": "ipython",
    "version": 3
   },
   "file_extension": ".py",
   "mimetype": "text/x-python",
   "name": "python",
   "nbconvert_exporter": "python",
   "pygments_lexer": "ipython3",
   "version": "3.8.6"
  }
 },
 "nbformat": 4,
 "nbformat_minor": 5
}
