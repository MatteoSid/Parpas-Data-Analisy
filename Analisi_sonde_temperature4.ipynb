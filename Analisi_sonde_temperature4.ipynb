{
 "cells": [
  {
   "cell_type": "code",
   "execution_count": 1,
   "id": "2cda042b",
   "metadata": {},
   "outputs": [],
   "source": [
    "import matplotlib.pyplot as plt\n",
    "import plotly.express as px\n",
    "from tqdm import tqdm\n",
    "import pandas as pd\n",
    "import shutil\n",
    "import time\n",
    "import csv\n",
    "import os"
   ]
  },
  {
   "cell_type": "markdown",
   "id": "cb815e5b",
   "metadata": {},
   "source": [
    "### Coversione da .txt/.tab a Dataframe\n",
    "* creo un DataFrame vuoto\n",
    "* quando raggiungo la riga dei nomi delle colonne riporto gli stessi nomi per le colonne del DataFrame\n",
    "* aggiungo ogni riga trovata al dataframe"
   ]
  },
  {
   "cell_type": "code",
   "execution_count": 5,
   "id": "d1d77f27",
   "metadata": {},
   "outputs": [],
   "source": [
    "#--- FUNZIONE PER CONVERTIRE UNA TABELLA IN DATAFRAME\n",
    "\n",
    "def tab_to_df(filename):\n",
    "        \n",
    "    file1 = open(filename, \"rb\")\n",
    "    df = pd.DataFrame()\n",
    "    flag_data = 0\n",
    "    \n",
    "    #pbar = tqdm(file1, desc=filename)\n",
    "    for line in tqdm(file1):\n",
    "\n",
    "        if b'\\xb0C' in line:     # se trovo il carattere °C lo ignoro\n",
    "            pass\n",
    "        else:\n",
    "            line = line.decode() # altrimenti decodifico la riga\n",
    "\n",
    "            # cerco la riga con i nomi della tabella\n",
    "            if line.startswith('NR'):\n",
    "                flag_data = 1                  # quando trovo i nomi delle colonne imposto flag_data = 1\n",
    "                table_names = line.split()     # divido i nomi delle colonne      \n",
    "                table_names.remove('LastLine') # elimino 'LastLine' che fa riferimento ad un singolo dato duplicato\n",
    "                \n",
    "                # definisco i nomi delle colonne del dataframe\n",
    "                df = df.reindex(columns = table_names)\n",
    "\n",
    "            # Se sono arrivato alla tabella ma la riga inizia con 0 la salto\n",
    "            elif flag_data == 1 and line.startswith('0'):\n",
    "                pass\n",
    "\n",
    "            # Se sono arrivato alla tabella (flag_data == 1) e non sono alla prima riga\n",
    "            # inizio a salvare i dati\n",
    "            elif flag_data == 1:\n",
    "                row = line.split()\n",
    "\n",
    "                if not line.startswith('[END]') and len(row) == len(table_names)+1: # le righe con meno di 25 elementi hanno dati mancanti\n",
    "                    row[-2] = str(row[-2]) + ' ' + str(row[-1]) # unisco l'ora col giorno\n",
    "                    del row[-1] # elimino la colonna con i giorni\n",
    "                    \n",
    "                    df_length = len(df)\n",
    "                    df.loc[df_length] = row\n",
    "    \n",
    "    #df['DataTime'] = pd.to_datetime(df['DataTime'], format='%H:%M:%S %d.%m.%y', errors='coerce')\n",
    "    df.set_index('DataTime', drop = True, inplace=True)\n",
    "    df.index = pd.to_datetime(df.index, format='%H:%M:%S %d.%m.%Y')\n",
    "    df.drop('NR', axis=1, inplace=True)\n",
    "    \n",
    "    for column in df.keys():\n",
    "        if 'PLC_Byt' in column or column == 'OpMode':\n",
    "            df.drop(column, axis=1, inplace=True)\n",
    "        else:\n",
    "            df[column] = df[column].apply(pd.to_numeric)\n",
    "    return df\n",
    "                        \n",
    "#--- MAIN\n",
    "\n",
    "#data = tab_to_df('table_new/Diag_temp.tab')\n",
    "#data.head(50)"
   ]
  },
  {
   "cell_type": "code",
   "execution_count": null,
   "id": "daeff8e8",
   "metadata": {},
   "outputs": [],
   "source": [
    "path = 'table_new2/'\n",
    "path_dest = path + 'csv/'\n",
    "dataDict = {}\n",
    "\n",
    "# controllo se la cartella 'csv' è presente. Se c'è la elimino e la ricreo, se non c'è la creo.\n",
    "if os.path.isdir(path_dest):\n",
    "    shutil.rmtree(path_dest)\n",
    "    os.mkdir(path_dest)\n",
    "else:\n",
    "    os.mkdir(path_dest)\n",
    "\n",
    "for filename in os.listdir(path):\n",
    "    if (filename.endswith('.txt') or filename.endswith('.tab')): \n",
    "        df = tab_to_df(path + filename)\n",
    "        if len(df) > 5:\n",
    "            #df = df.resample('10T').mean()\n",
    "            df.sort_index(inplace = True)\n",
    "            dataDict[filename] = df\n",
    "            df.to_csv(path_dest+filename, index=True)\n",
    "\n",
    "for i in dataDict:\n",
    "    print(i)"
   ]
  },
  {
   "cell_type": "code",
   "execution_count": 2,
   "id": "48dd1ef1",
   "metadata": {},
   "outputs": [
    {
     "name": "stdout",
     "output_type": "stream",
     "text": [
      "Long_term_temp.tab\n",
      "DomoClima_temp.tab\n",
      "Diag_temp.tab\n",
      "DiagnosisProfibus.tab\n",
      "Diag_temp.txt\n",
      "DiagnosisM398.tab\n",
      "hour_air_consumption.tab\n"
     ]
    }
   ],
   "source": [
    "path = 'table_new2/csv/'\n",
    "dataDict = {}\n",
    "for filename in os.listdir(path):\n",
    "    df = pd.read_csv(path + filename)\n",
    "    df['DataTime'] = pd.to_datetime(df['DataTime'], format='%Y-%m-%d %H:%M:%S')\n",
    "    df.set_index('DataTime', drop = True, inplace=True)\n",
    "    dataDict[filename] = df\n",
    "    \n",
    "for i in dataDict:\n",
    "    print(i)"
   ]
  },
  {
   "cell_type": "code",
   "execution_count": 9,
   "id": "9c8b12a5",
   "metadata": {},
   "outputs": [
    {
     "name": "stdout",
     "output_type": "stream",
     "text": [
      "2021-07-05 2021-07-21\n"
     ]
    }
   ],
   "source": [
    "#dataDict['Long_term_temp.tab'].head()\n",
    "\n",
    "time_start = (str(dataDict['Long_term_temp.tab'].index.min()))[:10]\n",
    "time_end = (str(dataDict['Long_term_temp.tab'].index.max()))[:10]\n",
    "\n",
    "print(time_start, time_end)"
   ]
  },
  {
   "cell_type": "code",
   "execution_count": null,
   "id": "f93f8866",
   "metadata": {},
   "outputs": [],
   "source": [
    "for tab in dataDict:\n",
    "    df = dataDict[tab].resample('1H').mean()\n",
    "    df.plot(figsize=(15,10), title=tab)"
   ]
  },
  {
   "cell_type": "code",
   "execution_count": null,
   "id": "95dfb600",
   "metadata": {},
   "outputs": [],
   "source": [
    "df = dataDict['hour_air_consumption.tab']\n",
    "df = df.reset_index()\n",
    "\n",
    "df['DataTime'] = df['DataTime'].apply(lambda x: x.replace(second=0))\n",
    "df = df.drop_duplicates(subset='DataTime', keep='last')\n",
    "df = df.set_index('DataTime')\n",
    "df.sort_index(inplace = True)\n",
    "#df['2021-07-07':].plot(figsize=(15,10))\n",
    "df = df.resample('1H').mean()\n",
    "fig = px.line(df, height=800)\n",
    "fig.show()"
   ]
  },
  {
   "cell_type": "code",
   "execution_count": 21,
   "id": "a7fed5f2",
   "metadata": {},
   "outputs": [
    {
     "name": "stdout",
     "output_type": "stream",
     "text": [
      "<class 'datetime.date'>\n",
      "2021-07-20\n",
      "2021-07-11 08:25:01\n"
     ]
    }
   ],
   "source": [
    "from datetime import date\n",
    "\n",
    "max_date_allowed=date.today()\n",
    "print(type(max_date_allowed))\n",
    "print(max_date_allowed)\n",
    "\n",
    "#dataDict['Diag_temp.tab'].info()\n",
    "\n",
    "date_list= pd.DatetimeIndex(dataDict['Diag_temp.tab'].index)\n",
    "print(date_list[0])"
   ]
  },
  {
   "cell_type": "code",
   "execution_count": 9,
   "id": "8a616eed",
   "metadata": {},
   "outputs": [
    {
     "name": "stderr",
     "output_type": "stream",
     "text": [
      "202it [00:00, 22755.95it/s]\n",
      "217it [00:00, 8131.55it/s]\n",
      "1446it [00:08, 171.67it/s]\n",
      "202it [00:00, 31489.24it/s]\n",
      "1437it [00:06, 226.07it/s]\n",
      "158it [00:00, 23938.02it/s]\n",
      "14600it [02:42, 89.64it/s]\n",
      "217it [00:00, 16215.86it/s]\n",
      "217it [00:00, 9616.10it/s]\n",
      "158it [00:00, 24836.97it/s]\n",
      "202it [00:00, 30130.85it/s]\n",
      "217it [00:00, 14611.02it/s]\n",
      "25878it [02:10, 198.15it/s]\n",
      "14600it [02:46, 87.77it/s]\n",
      "968it [00:00, 4095.83it/s]\n",
      "158it [00:00, 30098.10it/s]\n",
      "14449it [00:32, 442.07it/s]\n",
      "158it [00:00, 10950.64it/s]\n"
     ]
    },
    {
     "name": "stdout",
     "output_type": "stream",
     "text": [
      "Long_term_temp.tab\n",
      "DomoClima_temp.tab\n",
      "Diag_temp.tab\n",
      "DiagnosisProfibus.tab\n",
      "Diag_temp.txt\n",
      "DiagnosisM398.tab\n",
      "hour_air_consumption.tab\n"
     ]
    }
   ],
   "source": [
    "path = 'table_new2/'\n",
    "path_dest = path + 'csv/'\n",
    "dataDict = {}\n",
    "\n",
    "# se la cartella csv è presente carico i dati in memoria\n",
    "if os.path.isdir(path_dest):\n",
    "    for filename in os.listdir(path_dest):\n",
    "        df = pd.read_csv(path_dest + filename)\n",
    "        df['DataTime'] = pd.to_datetime(df['DataTime'], format='%Y-%m-%d %H:%M:%S')\n",
    "        df.set_index('DataTime', drop = True, inplace=True)\n",
    "        dataDict[filename] = df\n",
    "    \n",
    "    for i in dataDict:\n",
    "        print(i)\n",
    "else:\n",
    "    print('Trasformo le tabelle per la visualizzazione, potrebbe richiedere qualche minuto...')\n",
    "    os.mkdir(path_dest)\n",
    "    for filename in os.listdir(path):\n",
    "        if (filename.endswith('.txt') or filename.endswith('.tab')): \n",
    "            df = tab_to_df(path + filename)\n",
    "            if len(df) > 5:\n",
    "                #df = df.resample('10T').mean()\n",
    "                df.sort_index(inplace = True)\n",
    "                dataDict[filename] = df\n",
    "                df.to_csv(path_dest+filename, index=True)\n",
    "\n",
    "    for i in dataDict:\n",
    "        print(i)"
   ]
  },
  {
   "cell_type": "code",
   "execution_count": 11,
   "id": "d2260b16",
   "metadata": {},
   "outputs": [
    {
     "data": {
      "text/plain": [
       "'/home/matteo/GitHub/Parpas-Data-Analisy'"
      ]
     },
     "execution_count": 11,
     "metadata": {},
     "output_type": "execute_result"
    }
   ],
   "source": [
    "os.getcwd()"
   ]
  }
 ],
 "metadata": {
  "kernelspec": {
   "display_name": "Python 3",
   "language": "python",
   "name": "python3"
  },
  "language_info": {
   "codemirror_mode": {
    "name": "ipython",
    "version": 3
   },
   "file_extension": ".py",
   "mimetype": "text/x-python",
   "name": "python",
   "nbconvert_exporter": "python",
   "pygments_lexer": "ipython3",
   "version": "3.8.10"
  }
 },
 "nbformat": 4,
 "nbformat_minor": 5
}
