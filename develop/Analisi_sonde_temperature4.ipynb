{
 "cells": [
  {
   "cell_type": "code",
   "execution_count": null,
   "id": "2cda042b",
   "metadata": {},
   "outputs": [],
   "source": [
    "import matplotlib.pyplot as plt\n",
    "import plotly.express as px\n",
    "from tqdm import tqdm\n",
    "import pandas as pd\n",
    "import shutil\n",
    "import time\n",
    "import csv\n",
    "import os"
   ]
  },
  {
   "cell_type": "markdown",
   "id": "cb815e5b",
   "metadata": {},
   "source": [
    "### Coversione da .txt/.tab a Dataframe\n",
    "* creo un DataFrame vuoto\n",
    "* quando raggiungo la riga dei nomi delle colonne riporto gli stessi nomi per le colonne del DataFrame\n",
    "* aggiungo ogni riga trovata al dataframe"
   ]
  },
  {
   "cell_type": "code",
   "execution_count": null,
   "id": "d1d77f27",
   "metadata": {},
   "outputs": [],
   "source": [
    "#--- FUNZIONE PER CONVERTIRE UNA TABELLA IN DATAFRAME\n",
    "\n",
    "def tab_to_df(filename):\n",
    "    file1 = open(filename, \"rb\")\n",
    "    df = pd.DataFrame()\n",
    "    flag_data = 0\n",
    "    \n",
    "    #pbar = tqdm(file1, desc=filename)\n",
    "    for line in tqdm(file1):\n",
    "\n",
    "        if b'\\xb0C' in line:     # se trovo il carattere °C lo ignoro\n",
    "            pass\n",
    "        else:\n",
    "            line = line.decode() # altrimenti decodifico la riga\n",
    "\n",
    "            # cerco la riga con i nomi della tabella\n",
    "            if line.startswith('NR'):\n",
    "                flag_data = 1                  # quando trovo i nomi delle colonne imposto flag_data = 1\n",
    "                table_names = line.split()     # divido i nomi delle colonne      \n",
    "                table_names.remove('LastLine') # elimino 'LastLine' che fa riferimento ad un singolo dato duplicato\n",
    "                \n",
    "                # definisco i nomi delle colonne del dataframe\n",
    "                df = df.reindex(columns = table_names)\n",
    "\n",
    "            # Se sono arrivato alla tabella ma la riga inizia con 0 la salto\n",
    "            elif flag_data == 1 and line.startswith('0'):\n",
    "                pass\n",
    "\n",
    "            # Se sono arrivato alla tabella (flag_data == 1) e non sono alla prima riga\n",
    "            # inizio a salvare i dati\n",
    "            elif flag_data == 1:\n",
    "                row = line.split()\n",
    "\n",
    "                if not line.startswith('[END]') and len(row) == len(table_names)+1: # le righe con meno di 25 elementi hanno dati mancanti\n",
    "                    row[-2] = str(row[-2]) + ' ' + str(row[-1]) # unisco l'ora col giorno\n",
    "                    del row[-1] # elimino la colonna con i giorni\n",
    "                    \n",
    "                    df_length = len(df)\n",
    "                    df.loc[df_length] = row\n",
    "    \n",
    "    #df['DataTime'] = pd.to_datetime(df['DataTime'], format='%H:%M:%S %d.%m.%y', errors='coerce')\n",
    "    df.set_index('DataTime', drop = True, inplace=True)\n",
    "    df.index = pd.to_datetime(df.index, format='%H:%M:%S %d.%m.%Y')\n",
    "    df.drop('NR', axis=1, inplace=True)\n",
    "    \n",
    "    for column in df.keys():\n",
    "        if 'PLC_' in column or column == 'OpMode':\n",
    "            df.drop(column, axis=1, inplace=True)\n",
    "        else:\n",
    "            df[column] = df[column].apply(pd.to_numeric)\n",
    "    \n",
    "    # controllo se ci sono colonne nulle e le elimino\n",
    "    for column in df:\n",
    "        if (df[column] == 0).all():\n",
    "            df.drop(column, axis=1, inplace=True)\n",
    "    \n",
    "    df.sort_index(inplace = True)\n",
    "            \n",
    "    return df\n",
    "                        \n",
    "#--- MAIN\n",
    "\n",
    "data = tab_to_df('table/Diag_temp.tab')\n",
    "#data = data.resample('5T').mean()\n",
    "data.head(10)"
   ]
  },
  {
   "cell_type": "code",
   "execution_count": null,
   "id": "6818f107",
   "metadata": {},
   "outputs": [],
   "source": [
    "data2 = data.resample('1T').mean()\n",
    "data2.head(10)"
   ]
  },
  {
   "cell_type": "markdown",
   "id": "116c0c8f",
   "metadata": {},
   "source": [
    "## Script di conversione\n",
    "Converto le tabelle creando una cartella con tutti i file convertiti. Se la cartella esiste già la sovrascrivo. I file creati vengono salvati in memoria in un dizinario."
   ]
  },
  {
   "cell_type": "code",
   "execution_count": null,
   "id": "daeff8e8",
   "metadata": {
    "scrolled": false
   },
   "outputs": [],
   "source": [
    "path = 'table/'\n",
    "path_dest = path + 'csv/'\n",
    "dataDict = {}\n",
    "\n",
    "# controllo se la cartella 'csv' è presente. Se c'è la elimino e la ricreo, se non c'è la creo.\n",
    "if os.path.isdir(path_dest):\n",
    "    shutil.rmtree(path_dest)\n",
    "    os.mkdir(path_dest)\n",
    "else:\n",
    "    os.mkdir(path_dest)\n",
    "\n",
    "for filename in os.listdir(path):\n",
    "    if (filename.endswith('.txt') or filename.endswith('.tab')): \n",
    "        df = tab_to_df(path + filename)\n",
    "        if len(df) > 5:\n",
    "            #df = df.resample('10T').mean()\n",
    "            df.sort_index(inplace = True)\n",
    "            dataDict[filename] = df\n",
    "            df.to_csv(path_dest+filename, index=True)\n",
    "\n",
    "for i in dataDict:\n",
    "    print(i)"
   ]
  },
  {
   "cell_type": "markdown",
   "id": "e463e6c8",
   "metadata": {},
   "source": [
    "## Script di caricamento\n",
    "Script che carica in memoria i file .csv già creati e li salva in un dizionario."
   ]
  },
  {
   "cell_type": "code",
   "execution_count": null,
   "id": "48dd1ef1",
   "metadata": {},
   "outputs": [],
   "source": [
    "path = 'table/csv/'\n",
    "dataDict = {}\n",
    "for filename in os.listdir(path):\n",
    "    df = pd.read_csv(path + filename)\n",
    "    df['DataTime'] = pd.to_datetime(df['DataTime'], format='%Y-%m-%d %H:%M:%S')\n",
    "    df.set_index('DataTime', drop = True, inplace=True)\n",
    "    dataDict[filename] = df\n",
    "    \n",
    "for i in dataDict:\n",
    "    print(i)"
   ]
  },
  {
   "cell_type": "code",
   "execution_count": null,
   "id": "deafbbd3",
   "metadata": {},
   "outputs": [],
   "source": [
    "str(list(dataDict.keys()))"
   ]
  },
  {
   "cell_type": "markdown",
   "id": "8fd950f8",
   "metadata": {},
   "source": [
    "## Test sul range di date"
   ]
  },
  {
   "cell_type": "code",
   "execution_count": null,
   "id": "9c8b12a5",
   "metadata": {},
   "outputs": [],
   "source": [
    "#dataDict['Long_term_temp.tab'].head()\n",
    "\n",
    "time_start = (str(dataDict['Long_term_temp.tab'].index.min()))[:10]\n",
    "time_end = (str(dataDict['Long_term_temp.tab'].index.max()))[:10]\n",
    "\n",
    "print(time_start, time_end)"
   ]
  },
  {
   "cell_type": "markdown",
   "id": "4fef273b",
   "metadata": {},
   "source": [
    "## Test sull'eliminazione delle colonne 0"
   ]
  },
  {
   "cell_type": "code",
   "execution_count": null,
   "id": "93b47e94",
   "metadata": {},
   "outputs": [],
   "source": [
    "for column in dataDict['Diag_temp.tab']:\n",
    "    #print(column)\n",
    "    #print(column, (dataDict['Diag_temp.tab'][column] == 0).all())\n",
    "    if (dataDict['Diag_temp.tab'][column] == 0).all():\n",
    "        print(column)\n",
    "        dataDict['Diag_temp.tab'].drop(column, axis=1, inplace=True)"
   ]
  },
  {
   "cell_type": "code",
   "execution_count": null,
   "id": "f93f8866",
   "metadata": {
    "scrolled": false
   },
   "outputs": [],
   "source": [
    "for tab in dataDict:\n",
    "    df = dataDict[tab].resample('1H').mean()\n",
    "    df.plot(figsize=(10,7), title=tab)"
   ]
  },
  {
   "cell_type": "code",
   "execution_count": null,
   "id": "95dfb600",
   "metadata": {},
   "outputs": [],
   "source": [
    "df = dataDict['hour_air_consumption.tab']\n",
    "df = df.reset_index()\n",
    "\n",
    "df['DataTime'] = df['DataTime'].apply(lambda x: x.replace(second=0))\n",
    "df = df.drop_duplicates(subset='DataTime', keep='last')\n",
    "df = df.set_index('DataTime')\n",
    "df.sort_index(inplace = True)\n",
    "#df['2021-07-07':].plot(figsize=(15,10))\n",
    "df = df.resample('1H').mean()\n",
    "fig = px.line(df, height=800)\n",
    "fig.show()"
   ]
  },
  {
   "cell_type": "code",
   "execution_count": null,
   "id": "a7fed5f2",
   "metadata": {},
   "outputs": [],
   "source": [
    "from datetime import date\n",
    "\n",
    "max_date_allowed=date.today()\n",
    "print(type(max_date_allowed))\n",
    "print(max_date_allowed)\n",
    "\n",
    "#dataDict['Diag_temp.tab'].info()\n",
    "\n",
    "date_list= pd.DatetimeIndex(dataDict['Diag_temp.tab'].index)\n",
    "print(date_list[0])"
   ]
  },
  {
   "cell_type": "code",
   "execution_count": null,
   "id": "8a616eed",
   "metadata": {},
   "outputs": [],
   "source": [
    "path = 'table_new2/'\n",
    "path_dest = path + 'csv/'\n",
    "dataDict = {}\n",
    "\n",
    "# se la cartella csv è presente carico i dati in memoria\n",
    "if os.path.isdir(path_dest):\n",
    "    for filename in os.listdir(path_dest):\n",
    "        df = pd.read_csv(path_dest + filename)\n",
    "        df['DataTime'] = pd.to_datetime(df['DataTime'], format='%Y-%m-%d %H:%M:%S')\n",
    "        df.set_index('DataTime', drop = True, inplace=True)\n",
    "        dataDict[filename] = df\n",
    "    \n",
    "    for i in dataDict:\n",
    "        print(i)\n",
    "else:\n",
    "    print('Trasformo le tabelle per la visualizzazione, potrebbe richiedere qualche minuto...')\n",
    "    os.mkdir(path_dest)\n",
    "    for filename in os.listdir(path):\n",
    "        if (filename.endswith('.txt') or filename.endswith('.tab')): \n",
    "            df = tab_to_df(path + filename)\n",
    "            if len(df) > 5:\n",
    "                #df = df.resample('10T').mean()\n",
    "                df.sort_index(inplace = True)\n",
    "                dataDict[filename] = df\n",
    "                df.to_csv(path_dest+filename, index=True)\n",
    "\n",
    "    for i in dataDict:\n",
    "        print(i)"
   ]
  },
  {
   "cell_type": "markdown",
   "id": "d4993b51",
   "metadata": {},
   "source": [
    "## Prove con PyQt5"
   ]
  },
  {
   "cell_type": "code",
   "execution_count": null,
   "id": "1ff91b08",
   "metadata": {},
   "outputs": [],
   "source": [
    "import sys\n",
    "from PyQt5.QtCore import *\n",
    "from PyQt5.QtWebEngineWidgets import *\n",
    "from PyQt5.QtWidgets import QApplication\n",
    "from multiprocessing import Process, Queue\n",
    "import time\n",
    "\n",
    "def start_window():\n",
    "    app = QApplication(sys.argv)\n",
    "\n",
    "    web = QWebEngineView()\n",
    "    #web.load(QUrl(\"https://www.google.com\"))\n",
    "    web.load(QUrl(\"http://127.0.0.1:8051\"))\n",
    "    web.show()\n",
    "\n",
    "    sys.exit(app.exec())\n",
    "\n",
    "p = Process(target=start_window, daemon=True)\n",
    "p.start()\n",
    "print(str(p.pid))\n",
    "\n",
    "print(p.exitcode)\n",
    "while True:\n",
    "    if not p.is_alive():\n",
    "        print('ucciso')\n",
    "        break\n",
    "print(p.exitcode)"
   ]
  },
  {
   "cell_type": "code",
   "execution_count": null,
   "id": "24487f3a",
   "metadata": {},
   "outputs": [],
   "source": [
    "import sys\n",
    "from PyQt5.QtCore import *\n",
    "from PyQt5.QtWebEngineWidgets import *\n",
    "from PyQt5.QtWidgets import QApplication\n",
    "from multiprocessing import Process, Queue\n",
    "import time"
   ]
  },
  {
   "cell_type": "code",
   "execution_count": null,
   "id": "b664c694",
   "metadata": {},
   "outputs": [],
   "source": [
    "import sys\n",
    "from PyQt5.QtCore import *\n",
    "from PyQt5.QtWebEngineWidgets import *\n",
    "from PyQt5.QtWidgets import QApplication, QMainWindow, QPushButton\n",
    "\n",
    "\n",
    "# Subclass QMainWindow to customize your application's main window\n",
    "class MainWindow(QMainWindow):\n",
    "    def __init__(self):\n",
    "        super().__init__()\n",
    "\n",
    "        self.setWindowTitle(\"Grafici Tabelle\")\n",
    "        button = QPushButton(\"Press Me!\")\n",
    "        # Set the central widget of the Window.\n",
    "        self.setCentralWidget(button)\n",
    "        #self.web.load(QUrl(\"http://127.0.0.1:8051\"))\n",
    "        self.setFixedSize(QSize(400, 300))\n",
    "        #self.web.show()\n",
    "\n",
    "\n",
    "app = QApplication(sys.argv)\n",
    "\n",
    "window = MainWindow()\n",
    "window.show()\n",
    "\n",
    "app.exec()"
   ]
  },
  {
   "cell_type": "code",
   "execution_count": 1,
   "id": "aae01474",
   "metadata": {},
   "outputs": [
    {
     "data": {
      "text/plain": [
       "0"
      ]
     },
     "execution_count": 1,
     "metadata": {},
     "output_type": "execute_result"
    }
   ],
   "source": [
    "from PyQt5.QtCore import *\n",
    "from PyQt5.QtWidgets import *\n",
    "from PyQt5.QtGui import *\n",
    "from PyQt5.QtWebEngineWidgets import *\n",
    "\n",
    "import sys\n",
    "\n",
    "class MainWindow(QMainWindow):\n",
    "\n",
    "    def __init__(self, *args, **kwargs):\n",
    "        super(MainWindow,self).__init__(*args, **kwargs)\n",
    "\n",
    "        self.browser = QWebEngineView()\n",
    "        self.browser.setUrl(QUrl(\"http://www.google.com\"))\n",
    "\n",
    "        self.setCentralWidget(self.browser)\n",
    "\n",
    "        self.show()\n",
    "\n",
    "app = QApplication(sys.argv)\n",
    "window = MainWindow()\n",
    "\n",
    "app.exec_()"
   ]
  }
 ],
 "metadata": {
  "kernelspec": {
   "display_name": "Python 3 (ipykernel)",
   "language": "python",
   "name": "python3"
  },
  "language_info": {
   "codemirror_mode": {
    "name": "ipython",
    "version": 3
   },
   "file_extension": ".py",
   "mimetype": "text/x-python",
   "name": "python",
   "nbconvert_exporter": "python",
   "pygments_lexer": "ipython3",
   "version": "3.8.11"
  }
 },
 "nbformat": 4,
 "nbformat_minor": 5
}
