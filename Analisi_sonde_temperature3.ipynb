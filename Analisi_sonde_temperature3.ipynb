{
 "cells": [
  {
   "cell_type": "code",
   "execution_count": 1,
   "id": "b2b1e99f",
   "metadata": {},
   "outputs": [],
   "source": [
    "import matplotlib.pyplot as plt\n",
    "import plotly.express as px\n",
    "from tqdm import tqdm\n",
    "import pandas as pd\n",
    "import shutil\n",
    "import time\n",
    "import csv\n",
    "import os"
   ]
  },
  {
   "cell_type": "code",
   "execution_count": 48,
   "id": "86592cfa",
   "metadata": {},
   "outputs": [],
   "source": [
    "def txt_to_csv(filename, filedest, tab_type):\n",
    "    \n",
    "    \n",
    "    if os.path.isfile(filedest + '.csv'):\n",
    "        os.remove(filedest + '.csv')\n",
    "        \n",
    "    file1 = open(filename + tab_type, \"rb\")\n",
    "    file_csv = open(filedest + tab_type + '.csv', 'w+', newline ='')\n",
    "\n",
    "    count = 0\n",
    "    flag_data = 0\n",
    "\n",
    "    with file_csv:\n",
    "        for line in file1:\n",
    "\n",
    "            if b'\\xb0C' in line:     # se trovo il carattere °C lo ignoro\n",
    "                pass\n",
    "            else:\n",
    "                line = line.decode() # altrimenti decodifico la riga\n",
    "\n",
    "                # cerco la riga con i nomi della tabella\n",
    "                if line.startswith('NR'):\n",
    "                    flag_data = 1                  # quando trovo i nomi delle colonne imposto flag_data = 1\n",
    "                    table_names = line.split()     # divido i nomi delle colonne      \n",
    "                    table_names.remove('LastLine') # elimino 'LastLine' che fa riferimento ad un singolo dato duplicato\n",
    "                    #for item in table_names: print(item)\n",
    "                    write = csv.writer(file_csv)  \n",
    "                    write.writerow(table_names)\n",
    "                    #print(table_names)\n",
    "\n",
    "                # Se sono arrivato alla tabella ma la riga inizia con 0 la salto\n",
    "                elif flag_data == 1 and line.startswith('0'):\n",
    "                    pass\n",
    "\n",
    "                # Se sono arrivato alla tabella (flag_data == 1) e non sono alla prima riga\n",
    "                # inizio a salvare i dati\n",
    "                elif flag_data == 1:\n",
    "                    row = line.split()\n",
    "\n",
    "                    if not line.startswith('[END]') and len(row) == len(table_names)+1: # le righe con meno di 25 elementi hanno dati mancanti\n",
    "                        row[-2] = str(row[-2]) + ' ' + str(row[-1]) # unisco l'ora col giorno\n",
    "                        del row[-1] # elimino la colonna con i giorni\n",
    "                        write = csv.writer(file_csv)\n",
    "                        write.writerow(row)\n",
    "                        count = count+1      # aggiorno il contatore delle righe"
   ]
  },
  {
   "cell_type": "code",
   "execution_count": 5,
   "id": "be2bc68e",
   "metadata": {},
   "outputs": [],
   "source": [
    "def load_data(file):\n",
    "    #column_subset = ['t_Mach',   't_HydrTa', 't_TTlubr', 't_TT_ab1', \n",
    "                     #'t_TT_ab2', 't_HdStUp', 't_HdStLw', 't_Sfrnt1', \n",
    "                     #'t_Sfrnt2', 't_Srear',  't_Smotor', 'DataTime']\n",
    "\n",
    "    df = pd.read_csv (file,\n",
    "                      #usecols=column_subset,\n",
    "                      index_col=False)\n",
    "\n",
    "    df['DataTime'] = pd.to_datetime(df['DataTime'], format='%H:%M:%S %d.%m.%Y')\n",
    "    \n",
    "    df.set_index('DataTime', drop = True, inplace=True)\n",
    "    \n",
    "    if not df.index.is_monotonic:\n",
    "        df.sort_index(inplace = True)\n",
    "    \n",
    "    df.drop('NR', axis=1, inplace=True)\n",
    "    \n",
    "    return df"
   ]
  },
  {
   "cell_type": "code",
   "execution_count": 51,
   "id": "93391f70",
   "metadata": {},
   "outputs": [
    {
     "name": "stdout",
     "output_type": "stream",
     "text": [
      "Long_term_temp\n",
      "DomoClima_temp\n",
      "Diag_temp\n",
      "hour_air_consumption\n"
     ]
    }
   ],
   "source": [
    "path = 'table_new/'\n",
    "path_dest = path + 'csv/'\n",
    "tab_type = '.tab'\n",
    "\n",
    "# controllo se la cartella 'csv' è presente. Se c'è la elimino e la ricreo, se non c'è la creo.\n",
    "#if os.path.isdir(path_dest):\n",
    "#    shutil.rmtree(path_dest)\n",
    "#    os.mkdir(path_dest)\n",
    "#else:\n",
    "#    os.mkdir(path_dest)\n",
    "\n",
    "for filename in os.listdir(path):\n",
    "    if filename.endswith(tab_type): \n",
    "        print(filename[:-4])\n",
    "        txt_to_csv(filename = path + filename[:-4],\n",
    "                   filedest = path_dest + filename[:-4],\n",
    "                   tab_type = tab_type)"
   ]
  },
  {
   "cell_type": "code",
   "execution_count": 30,
   "id": "f4a91f3a",
   "metadata": {},
   "outputs": [
    {
     "name": "stdout",
     "output_type": "stream",
     "text": [
      "Diag_temp.csv\n"
     ]
    }
   ],
   "source": [
    "#--- TABLE NEW\n",
    "\n",
    "tabname = 'Diag_temp'\n",
    "path = 'table_new/csv/'\n",
    "dflist=[]\n",
    "for file in os.listdir(path):\n",
    "    if file.endswith('.csv') and tabname in file and  not '_all' in file:\n",
    "        print(file)\n",
    "        df = load_data(path + file)\n",
    "        dflist.append(df)\n",
    "        \n",
    "data_all = pd.concat(dflist)\n",
    "data_all.sort_index(inplace = True)\n",
    "data_all.to_csv(path + tabname + '_all.csv')\n"
   ]
  },
  {
   "cell_type": "code",
   "execution_count": 58,
   "id": "ce6bed90",
   "metadata": {},
   "outputs": [
    {
     "name": "stdout",
     "output_type": "stream",
     "text": [
      "<class 'pandas.core.frame.DataFrame'>\n",
      "Index: 14399 entries, 04.06.2021 08:45:01 to 14.06.2021 10:07:01\n",
      "Data columns (total 25 columns):\n",
      " #   Column    Non-Null Count  Dtype  \n",
      "---  ------    --------------  -----  \n",
      " 0   t_Mach    14399 non-null  float64\n",
      " 1   t_HydrTa  14399 non-null  float64\n",
      " 2   t_TTlubr  14399 non-null  float64\n",
      " 3   t_TT_ab1  14399 non-null  float64\n",
      " 4   t_TT_ab2  14399 non-null  float64\n",
      " 5   t_HdStUp  14399 non-null  float64\n",
      " 6   t_HdStLw  14399 non-null  float64\n",
      " 7   t_Sfrnt1  14399 non-null  float64\n",
      " 8   t_Sfrnt2  14399 non-null  float64\n",
      " 9   t_Srear   14399 non-null  float64\n",
      " 10  t_Smotor  14399 non-null  float64\n",
      " 11  t_DxRiga  14399 non-null  float64\n",
      " 12  t_DxFond  14399 non-null  float64\n",
      " 13  t_DxAmb   14399 non-null  float64\n",
      " 14  t_SxRiga  14399 non-null  float64\n",
      " 15  t_SxFond  14399 non-null  float64\n",
      " 16  t_SxAmb   14399 non-null  float64\n",
      " 17  t_RigAnt  14399 non-null  float64\n",
      " 18  t_Amb_Mn  14399 non-null  float64\n",
      " 19  t_RMnPos  14399 non-null  float64\n",
      " 20  t_FondMn  14399 non-null  float64\n",
      " 21  t_ReqDom  14399 non-null  int64  \n",
      " 22  t_ExtDom  14399 non-null  int64  \n",
      " 23  t_ProDom  14399 non-null  int64  \n",
      " 24  t_Envir   14399 non-null  float64\n",
      "dtypes: float64(22), int64(3)\n",
      "memory usage: 2.9+ MB\n"
     ]
    }
   ],
   "source": [
    "df = pd.read_csv('TOTALE_SONDE.csv', ';')\n",
    "df.set_index('DataTime', drop = True, inplace=True)\n",
    "df.sort_index(inplace = True)\n",
    "\n",
    "        \n",
    "df.info()\n",
    "#df.drop('OP', axis=1, inplace=True)\n",
    "#fig = px.line(df)\n",
    "#fig.show()"
   ]
  },
  {
   "cell_type": "code",
   "execution_count": 78,
   "id": "998e6371",
   "metadata": {},
   "outputs": [
    {
     "data": {
      "text/plain": [
       "Index(['t_Mach', 't_HydrTa', 't_TTlubr', 't_TT_ab1', 't_TT_ab2', 't_HdStUp',\n",
       "       't_HdStLw', 't_Sfrnt1', 't_Sfrnt2', 't_Srear', 't_Smotor', 't_DxRiga',\n",
       "       't_DxFond', 't_DxAmb', 't_SxRiga', 't_SxFond', 't_SxAmb', 't_RigAnt',\n",
       "       't_Amb_Mn', 't_RMnPos', 't_FondMn', 't_ReqDom', 't_ExtDom', 't_ProDom',\n",
       "       't_Envir', 'DataTime'],\n",
       "      dtype='object')"
      ]
     },
     "execution_count": 78,
     "metadata": {},
     "output_type": "execute_result"
    }
   ],
   "source": [
    "df = pd.read_csv ('TOTALE_SONDE.csv', sep=';')\n",
    "#df['DataTime'] = pd.to_datetime(df['DataTime'], format='%d.%m.%Y %H:%M:%S')\n",
    "#df.set_index('DataTime', drop = True, inplace=True)\n",
    "#df = df.resample('5T').mean()\n",
    "\n",
    "\n",
    "df.keys()"
   ]
  }
 ],
 "metadata": {
  "kernelspec": {
   "display_name": "Python 3",
   "language": "python",
   "name": "python3"
  },
  "language_info": {
   "codemirror_mode": {
    "name": "ipython",
    "version": 3
   },
   "file_extension": ".py",
   "mimetype": "text/x-python",
   "name": "python",
   "nbconvert_exporter": "python",
   "pygments_lexer": "ipython3",
   "version": "3.8.10"
  }
 },
 "nbformat": 4,
 "nbformat_minor": 5
}
